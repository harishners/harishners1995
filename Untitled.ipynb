{
 "cells": [
  {
   "cell_type": "code",
   "execution_count": 1,
   "id": "68b707ee",
   "metadata": {},
   "outputs": [
    {
     "name": "stdout",
     "output_type": "stream",
     "text": [
      "Nersu Chiranjeevi Harish\n"
     ]
    }
   ],
   "source": [
    "print(\"Nersu Chiranjeevi Harish\")"
   ]
  },
  {
   "cell_type": "code",
   "execution_count": 2,
   "id": "9cb45c59",
   "metadata": {},
   "outputs": [
    {
     "name": "stdout",
     "output_type": "stream",
     "text": [
      "Hello Data Science\n"
     ]
    }
   ],
   "source": [
    "print(\"Hello Data Science\")                                                                                                                          "
   ]
  },
  {
   "cell_type": "markdown",
   "id": "863c7f90",
   "metadata": {},
   "source": [
    "Hello Data science"
   ]
  },
  {
   "cell_type": "code",
   "execution_count": null,
   "id": "cb9ec2b2",
   "metadata": {},
   "outputs": [],
   "source": []
  }
 ],
 "metadata": {
  "kernelspec": {
   "display_name": "Python 3 (ipykernel)",
   "language": "python",
   "name": "python3"
  },
  "language_info": {
   "codemirror_mode": {
    "name": "ipython",
    "version": 3
   },
   "file_extension": ".py",
   "mimetype": "text/x-python",
   "name": "python",
   "nbconvert_exporter": "python",
   "pygments_lexer": "ipython3",
   "version": "3.11.4"
  }
 },
 "nbformat": 4,
 "nbformat_minor": 5
}
